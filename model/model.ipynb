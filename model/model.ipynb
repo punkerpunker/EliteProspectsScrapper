{
 "cells": [
  {
   "cell_type": "markdown",
   "metadata": {},
   "source": [
    "### Импорты и настройки"
   ]
  },
  {
   "cell_type": "code",
   "execution_count": 1,
   "metadata": {},
   "outputs": [],
   "source": [
    "import pandas as pd\n",
    "import sqlalchemy\n",
    "import re\n",
    "import tqdm\n",
    "import numpy as np\n",
    "\n",
    "pd.set_option('max_columns', None)\n",
    "\n",
    "db_name = 'postgres'\n",
    "db_hostname = 'localhost'\n",
    "db_user = 'postgres'\n",
    "db_password = 'tttBBB777'\n",
    "db_table = 'players_list'\n",
    "\n",
    "engine = sqlalchemy.create_engine(f'postgresql+psycopg2://{db_user}:{db_password}@{db_hostname}/{db_name}')"
   ]
  },
  {
   "cell_type": "code",
   "execution_count": 2,
   "metadata": {},
   "outputs": [],
   "source": [
    "season = pd.read_sql('select * from player_season', engine)\n",
    "players = pd.read_sql('select * from player', engine)"
   ]
  },
  {
   "cell_type": "code",
   "execution_count": 3,
   "metadata": {},
   "outputs": [],
   "source": [
    "month_dict = {'Jan': '01', 'Feb': '02', 'Mar': '03', 'Apr': '04', 'May': '05', 'Jun': '06', \n",
    "              'Jul': '07', 'Aug': '08', 'Sep': '09', 'Oct': '10', 'Nov': '11', 'Dec': '12'}"
   ]
  },
  {
   "cell_type": "markdown",
   "metadata": {},
   "source": [
    "### Подготовка данных игрока"
   ]
  },
  {
   "cell_type": "code",
   "execution_count": 4,
   "metadata": {},
   "outputs": [],
   "source": [
    "players['date_of_birth'] = pd.to_datetime(players['Date of Birth'], infer_datetime_format=True, errors='coerce')\n",
    "players['height'] = players['Height'].map(lambda x: x.split(' cm')[0])\n",
    "players['height'] = pd.to_numeric(players['height'], errors='coerce')\n",
    "players['weight'] = players['Weight'].map(lambda x: x.split(' kg')[0])\n",
    "players['weight'] = pd.to_numeric(players['weight'], errors='coerce')\n",
    "players['birth_country'] = players['Place of Birth'].map(lambda x: x.split(', ')[-1])\n",
    "players['birth_city'] = players['Place of Birth'].map(lambda x: x.split(', ')[0])\n",
    "players['draft_entry'] = players['Drafted'].map(lambda x: re.findall(r'#(\\d+) overall', str(x)))\n",
    "players['draft_entry'] = pd.to_numeric(players['draft_entry'].map(lambda x: x[0] if x else None), errors='coerce')\n",
    "players['draft_team'] = players['Drafted'].map(lambda x: re.findall(r'by (.*)', str(x)))\n",
    "players['draft_team'] = players['draft_team'].map(lambda x: x[0] if x else None)\n",
    "players['nhl_rights'] = players['NHL Rights'].map(lambda x: str(x).split(' /')[0])"
   ]
  },
  {
   "cell_type": "code",
   "execution_count": 5,
   "metadata": {},
   "outputs": [],
   "source": [
    "columns_needed = ['name', 'id', 'Position', 'Age', 'Nation', 'Shoots', 'Youth Team', 'date_of_birth', \n",
    "                  'height', 'weight', 'birth_country', 'birth_city', 'draft_entry', 'nhl_rights', 'draft_team']\n",
    "players = players[columns_needed]"
   ]
  },
  {
   "cell_type": "markdown",
   "metadata": {},
   "source": [
    "### Подготовка данных сезона"
   ]
  },
  {
   "cell_type": "code",
   "execution_count": 6,
   "metadata": {},
   "outputs": [],
   "source": [
    "playoff_columns = ['S', 'Team', 'League', 'GP.1', 'G.1', 'A.1', 'TP.1', 'PIM.1', '+/-.1', 'player_id']\n",
    "regular_columns = ['S', 'Team', 'League', 'GP', 'G', 'A', 'TP', 'PIM', '+/-', 'player_id']\n",
    "playoff = season.loc[season['POST'] != 'nan', playoff_columns].copy()\n",
    "regular = season[regular_columns].copy()\n",
    "playoff.columns = regular_columns\n",
    "regular['postseason_flag'] = 0\n",
    "playoff['postseason_flag'] = 1\n",
    "season_stats = regular.append(playoff)"
   ]
  },
  {
   "cell_type": "code",
   "execution_count": 7,
   "metadata": {},
   "outputs": [],
   "source": [
    "season_stats['+/-'] = pd.to_numeric(season_stats['+/-'], errors='coerce')\n",
    "for column in ['GP', 'G', 'A', 'TP', 'PIM']:\n",
    "    season_stats[column] = pd.to_numeric(season_stats[column], errors='coerce')\n",
    "season_stats['year'] = pd.to_datetime(season_stats['S'].map(lambda x: x.split('-')[0]), format='%Y')\n",
    "season_stats['years_passed'] = 2021 - season_stats['year'].dt.year\n",
    "season_stats = season_stats[season_stats['G'].isnull() == False]"
   ]
  },
  {
   "cell_type": "markdown",
   "metadata": {},
   "source": [
    "### Подготовка фич"
   ]
  },
  {
   "cell_type": "code",
   "execution_count": 9,
   "metadata": {},
   "outputs": [],
   "source": [
    "full_df = season_stats.merge(players, left_on='player_id', right_on='id')"
   ]
  },
  {
   "cell_type": "code",
   "execution_count": 10,
   "metadata": {},
   "outputs": [],
   "source": [
    "full_df['age'] = (full_df['year'] - full_df['date_of_birth']) / np.timedelta64(1, 'Y')"
   ]
  },
  {
   "cell_type": "markdown",
   "metadata": {},
   "source": [
    "#### Определение национальностей"
   ]
  },
  {
   "cell_type": "code",
   "execution_count": 11,
   "metadata": {},
   "outputs": [],
   "source": [
    "nations = [x.split(' / ') for x in full_df['Nation'].unique()]\n",
    "nations = list(set([item for sublist in nations for item in sublist]))"
   ]
  },
  {
   "cell_type": "code",
   "execution_count": 12,
   "metadata": {},
   "outputs": [
    {
     "name": "stderr",
     "output_type": "stream",
     "text": [
      "100%|████████████████████████████████████████| 102/102 [01:20<00:00,  1.27it/s]\n"
     ]
    }
   ],
   "source": [
    "for nation in tqdm.tqdm(nations):\n",
    "    column = f'nation_{nation}'\n",
    "    full_df.loc[full_df['Nation'].str.contains(nation), column] = 1\n",
    "    full_df[column].fillna(0, inplace=True)"
   ]
  },
  {
   "cell_type": "markdown",
   "metadata": {},
   "source": [
    "#### Определение позииции"
   ]
  },
  {
   "cell_type": "code",
   "execution_count": 13,
   "metadata": {},
   "outputs": [],
   "source": [
    "positions = [x.split('_')[-1].split('/') for x in full_df['Position'].unique()]\n",
    "positions = list(set([item for sublist in positions for item in sublist]))"
   ]
  },
  {
   "cell_type": "code",
   "execution_count": 14,
   "metadata": {},
   "outputs": [
    {
     "name": "stderr",
     "output_type": "stream",
     "text": [
      "100%|████████████████████████████████████████████| 9/9 [00:09<00:00,  1.10s/it]\n"
     ]
    }
   ],
   "source": [
    "for position in tqdm.tqdm(positions):\n",
    "    column = f'position_{position}'\n",
    "    full_df.loc[full_df['Position'].str.contains(position), column] = 1\n",
    "    full_df[column].fillna(0, inplace=True)"
   ]
  },
  {
   "cell_type": "markdown",
   "metadata": {},
   "source": [
    "#### Дамми-фичи"
   ]
  },
  {
   "cell_type": "code",
   "execution_count": 200,
   "metadata": {},
   "outputs": [],
   "source": [
    "dummies = ['Shoots', 'birth_country', 'nhl_rights', 'draft_team']\n",
    "\n",
    "features_df = pd.concat([full_df, pd.get_dummies(full_df[dummies], drop_first=True)], axis=1)"
   ]
  },
  {
   "cell_type": "markdown",
   "metadata": {},
   "source": [
    "#### Аггрегаты по игроку"
   ]
  },
  {
   "cell_type": "code",
   "execution_count": 201,
   "metadata": {},
   "outputs": [],
   "source": [
    "groupby_columns = ['player_id', 'S', 'postseason_flag']\n",
    "stats_columns = ['GP', 'G', 'A', 'TP', 'PIM', '+/-']\n",
    "aggregates = features_df.groupby(groupby_columns)[stats_columns].sum().reset_index()"
   ]
  },
  {
   "cell_type": "code",
   "execution_count": 202,
   "metadata": {},
   "outputs": [],
   "source": [
    "regular = aggregates[aggregates['postseason_flag'] == 0].reset_index(drop=True)\n",
    "playoff = aggregates[aggregates['postseason_flag'] == 1].reset_index(drop=True)"
   ]
  },
  {
   "cell_type": "markdown",
   "metadata": {},
   "source": [
    "##### Аггрегаты по Postseason"
   ]
  },
  {
   "cell_type": "code",
   "execution_count": 203,
   "metadata": {},
   "outputs": [
    {
     "name": "stderr",
     "output_type": "stream",
     "text": [
      "100%|████████████████████████████████████████████| 4/4 [00:00<00:00,  4.91it/s]\n"
     ]
    }
   ],
   "source": [
    "aggregations = []\n",
    "for function in tqdm.tqdm(['sum', 'mean', 'max', 'min']):\n",
    "    aggr = getattr(playoff.groupby(['player_id'])[stats_columns].shift().rolling(max_window, 1), function)()\n",
    "    aggr.columns = [f'{function}_{x}' for x in aggr.columns]\n",
    "    aggregations.append(aggr.reset_index(drop=True))\n",
    "playoff = playoff.merge(pd.concat(aggregations, axis=1), left_index=True, right_index=True)\n",
    "playoff = playoff.drop(['GP', 'G', 'A', 'TP', 'PIM', '+/-'], axis=1)"
   ]
  },
  {
   "cell_type": "markdown",
   "metadata": {},
   "source": [
    "##### Аггрегаты по Regular Season"
   ]
  },
  {
   "cell_type": "code",
   "execution_count": 204,
   "metadata": {},
   "outputs": [
    {
     "name": "stderr",
     "output_type": "stream",
     "text": [
      "100%|████████████████████████████████████████████| 4/4 [00:01<00:00,  2.74it/s]\n"
     ]
    }
   ],
   "source": [
    "aggregations = []\n",
    "for function in tqdm.tqdm(['sum', 'mean', 'max', 'min']):\n",
    "    aggr = getattr(regular.groupby(['player_id'])[stats_columns].shift().rolling(max_window, 1), function)()\n",
    "    aggr.columns = [f'{function}_{x}' for x in aggr.columns]\n",
    "    aggregations.append(aggr.reset_index(drop=True))\n",
    "regular = regular.merge(pd.concat(aggregations, axis=1), left_index=True, right_index=True)\n",
    "regular = regular.drop(['GP', 'G', 'A', 'TP', 'PIM', '+/-'], axis=1)"
   ]
  },
  {
   "cell_type": "code",
   "execution_count": 205,
   "metadata": {},
   "outputs": [],
   "source": [
    "shape_before = features_df.shape[0]\n",
    "aggregated_features = regular.append(playoff, sort=False)\n",
    "features_df = features_df.merge(aggregated_features, on=['player_id', 'S', 'postseason_flag'], how='left')\n",
    "assert shape_before == features_df.shape[0], \"Shapes doesn't match\""
   ]
  },
  {
   "cell_type": "markdown",
   "metadata": {},
   "source": [
    "#### Приводим в порядок колонки"
   ]
  },
  {
   "cell_type": "code",
   "execution_count": 206,
   "metadata": {},
   "outputs": [],
   "source": [
    "non_features = ['S', 'Team', 'League', 'player_id', 'year', 'name', 'id', 'Position', 'Age', 'Nation', 'Shoots', 'Youth Team', 'date_of_birth', \n",
    "                'birth_country', 'birth_city', 'nhl_rights', 'draft_team', 'nation_']\n",
    "exclude = ['A', 'TP', 'PIM', '+/-']\n",
    "target = 'G'\n",
    "\n",
    "# Для правильного сплита - сортируем по возрастанию сезона\n",
    "features_df = features_df.sort_values(['S', 'postseason_flag'])\n",
    "features_df.drop(non_features+exclude, axis=1, inplace=True)\n",
    "features_df.rename(columns = lambda x: x.replace('/', '_'), inplace=True)\n",
    "features_df = features_df.rename(columns = lambda x:re.sub('[^A-Za-z0-9_]+', '', x))"
   ]
  },
  {
   "cell_type": "markdown",
   "metadata": {},
   "source": [
    "### Построение модели"
   ]
  },
  {
   "cell_type": "code",
   "execution_count": 211,
   "metadata": {},
   "outputs": [],
   "source": [
    "from lightgbm import LGBMRegressor, plot_importance\n",
    "from sklearn.model_selection import cross_val_score, TimeSeriesSplit\n",
    "from sklearn.metrics import mean_absolute_error"
   ]
  },
  {
   "cell_type": "code",
   "execution_count": 224,
   "metadata": {},
   "outputs": [],
   "source": [
    "X = features_df[[x for x in features_df.columns if x != target]]\n",
    "y = features_df[target]\n",
    "\n",
    "tscv = TimeSeriesSplit()\n",
    "gbm = LGBMRegressor(max_depth=13, num_leaves=60, learning_rate=0.05, n_estimators=500)"
   ]
  },
  {
   "cell_type": "code",
   "execution_count": 229,
   "metadata": {},
   "outputs": [
    {
     "name": "stderr",
     "output_type": "stream",
     "text": [
      "100%|████████████████████████████████████████████| 5/5 [01:08<00:00, 13.69s/it]\n"
     ]
    }
   ],
   "source": [
    "scores = []\n",
    "\n",
    "for train_index, test_index in tqdm.tqdm(tscv.split(X), total=tscv.n_splits):\n",
    "    model = gbm.fit(X.loc[train_index], y.loc[train_index])\n",
    "    prediction = model.predict(X.loc[test_index])\n",
    "    scores.append(mean_absolute_error(y.loc[test_index], prediction))"
   ]
  },
  {
   "cell_type": "code",
   "execution_count": 227,
   "metadata": {},
   "outputs": [
    {
     "data": {
      "text/plain": [
       "<AxesSubplot:title={'center':'Feature importance'}, xlabel='Feature importance', ylabel='Features'>"
      ]
     },
     "execution_count": 227,
     "metadata": {},
     "output_type": "execute_result"
    },
    {
     "data": {
      "image/png": "[encoded data removed]",
      "text/plain": [
       "<Figure size 1440x720 with 1 Axes>"
      ]
     },
     "metadata": {
      "needs_background": "light"
     },
     "output_type": "display_data"
    }
   ],
   "source": [
    "plot_importance(model, max_num_features=40, figsize=(20, 10))"
   ]
  }
 ],
 "metadata": {
  "kernelspec": {
   "display_name": "Python 3",
   "language": "python",
   "name": "python3"
  },
  "language_info": {
   "codemirror_mode": {
    "name": "ipython",
    "version": 3
   },
   "file_extension": ".py",
   "mimetype": "text/x-python",
   "name": "python",
   "nbconvert_exporter": "python",
   "pygments_lexer": "ipython3",
   "version": "3.9.0"
  }
 },
 "nbformat": 4,
 "nbformat_minor": 4
}
