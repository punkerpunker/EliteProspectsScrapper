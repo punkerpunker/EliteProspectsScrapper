{
 "cells": [
  {
   "cell_type": "markdown",
   "metadata": {},
   "source": [
    "### Импорты и настройки"
   ]
  },
  {
   "cell_type": "code",
   "execution_count": 1,
   "metadata": {},
   "outputs": [],
   "source": [
    "import pandas as pd\n",
    "import sqlalchemy\n",
    "import re\n",
    "import tqdm\n",
    "from preprocessing import Players, Seasons\n",
    "from features import Features\n",
    "\n",
    "pd.set_option('max_columns', None)\n",
    "\n",
    "db_name = 'postgres'\n",
    "db_hostname = 'localhost'\n",
    "db_user = 'postgres'\n",
    "db_password = 'tttBBB777'\n",
    "db_table = 'players_list'\n",
    "\n",
    "engine = sqlalchemy.create_engine(f'postgresql+psycopg2://{db_user}:{db_password}@{db_hostname}/{db_name}')"
   ]
  },
  {
   "cell_type": "code",
   "execution_count": 2,
   "metadata": {},
   "outputs": [],
   "source": [
    "season = pd.read_sql('select * from player_season', engine)\n",
    "players = pd.read_sql('select * from player', engine)"
   ]
  },
  {
   "cell_type": "markdown",
   "metadata": {},
   "source": [
    "### Препроцессинг"
   ]
  },
  {
   "cell_type": "code",
   "execution_count": 3,
   "metadata": {},
   "outputs": [],
   "source": [
    "season_stats = Seasons.preprocess(season)\n",
    "players = Players.preprocess(players)"
   ]
  },
  {
   "cell_type": "markdown",
   "metadata": {},
   "source": [
    "### Подготовка фич"
   ]
  },
  {
   "cell_type": "code",
   "execution_count": null,
   "metadata": {},
   "outputs": [
    {
     "name": "stdout",
     "output_type": "stream",
     "text": [
      "Gathering league ratings...\n"
     ]
    },
    {
     "name": "stderr",
     "output_type": "stream",
     "text": [
      "  0%|                                                  | 0/108 [00:00<?, ?it/s]"
     ]
    },
    {
     "name": "stdout",
     "output_type": "stream",
     "text": [
      "Gathering age...\n",
      "Gathering nationalities...\n"
     ]
    },
    {
     "name": "stderr",
     "output_type": "stream",
     "text": [
      "100%|████████████████████████████████████████| 108/108 [01:55<00:00,  1.07s/it]\n",
      "  0%|                                                   | 0/10 [00:00<?, ?it/s]"
     ]
    },
    {
     "name": "stdout",
     "output_type": "stream",
     "text": [
      "Gathering positions...\n"
     ]
    },
    {
     "name": "stderr",
     "output_type": "stream",
     "text": [
      "100%|██████████████████████████████████████████| 10/10 [00:15<00:00,  1.54s/it]\n"
     ]
    },
    {
     "name": "stdout",
     "output_type": "stream",
     "text": [
      "Gathering dummies...\n",
      "Gathering per-game stats...\n",
      "Gathering lags stats...\n"
     ]
    },
    {
     "name": "stderr",
     "output_type": "stream",
     "text": [
      "100%|████████████████████████████████████████████| 3/3 [00:02<00:00,  1.02it/s]\n"
     ]
    },
    {
     "name": "stdout",
     "output_type": "stream",
     "text": [
      "Gathering aggregates...\n"
     ]
    },
    {
     "name": "stderr",
     "output_type": "stream",
     "text": [
      "100%|████████████████████████████████████████████| 4/4 [06:12<00:00, 93.13s/it]\n",
      " 25%|███████████                                 | 1/4 [00:37<01:52, 37.50s/it]"
     ]
    }
   ],
   "source": [
    "features = Features(players, season_stats)\n",
    "features_df = features.gather_all_features()"
   ]
  },
  {
   "cell_type": "markdown",
   "metadata": {},
   "source": [
    "#### Приводим в порядок колонки"
   ]
  },
  {
   "cell_type": "code",
   "execution_count": null,
   "metadata": {},
   "outputs": [],
   "source": [
    "non_features = ['season', 'team', 'league', 'player_id', 'year', 'name', 'id', 'position', 'age', 'nation', 'shoots', 'youth team', 'date_of_birth', \n",
    "                'birth_country', 'birth_city', 'nhl_rights', 'draft_team', 'nation_', 'assists', 'points', 'penalty', 'plus_minus', 'goals_per_game', \n",
    "                'assists_per_game', 'points_per_game', 'penalty_per_game', 'plus_minus_per_game']\n",
    "\n",
    "target = 'goals'\n",
    "\n",
    "# Для правильного сплита - сортируем по возрастанию сезона\n",
    "features_df = features_df[features_df[target].isnull() == False].sort_values(['season', 'postseason_flag']).reset_index(drop=True)\n",
    "features_df.drop(non_features, axis=1, inplace=True)\n",
    "features_df.rename(columns = lambda x: x.replace('/', '_'), inplace=True)\n",
    "features_df = features_df.rename(columns = lambda x:re.sub('[^A-Za-z0-9_]+', '', x))"
   ]
  },
  {
   "cell_type": "markdown",
   "metadata": {},
   "source": [
    "### Построение модели"
   ]
  },
  {
   "cell_type": "code",
   "execution_count": null,
   "metadata": {},
   "outputs": [],
   "source": [
    "from lightgbm import LGBMRegressor, plot_importance\n",
    "from sklearn.model_selection import cross_val_score, TimeSeriesSplit\n",
    "from sklearn.metrics import mean_absolute_error"
   ]
  },
  {
   "cell_type": "code",
   "execution_count": null,
   "metadata": {},
   "outputs": [],
   "source": [
    "X = features_df[[x for x in features_df.columns if x != target]]\n",
    "y = features_df[target]\n",
    "\n",
    "tscv = TimeSeriesSplit()\n",
    "gbm = LGBMRegressor(max_depth=13, num_leaves=60, learning_rate=0.05, n_estimators=500)"
   ]
  },
  {
   "cell_type": "code",
   "execution_count": null,
   "metadata": {},
   "outputs": [],
   "source": [
    "scores = []\n",
    "\n",
    "for train_index, test_index in tqdm.tqdm(tscv.split(X), total=tscv.n_splits):\n",
    "    model = gbm.fit(X.loc[train_index], y.loc[train_index])\n",
    "    prediction = model.predict(X.loc[test_index])\n",
    "    scores.append(mean_absolute_error(y.loc[test_index], prediction))"
   ]
  },
  {
   "cell_type": "code",
   "execution_count": null,
   "metadata": {},
   "outputs": [],
   "source": [
    "scores"
   ]
  },
  {
   "cell_type": "code",
   "execution_count": null,
   "metadata": {},
   "outputs": [],
   "source": [
    "plot_importance(model, max_num_features=40, figsize=(20, 10))"
   ]
  }
 ],
 "metadata": {
  "kernelspec": {
   "display_name": "Python 3",
   "language": "python",
   "name": "python3"
  },
  "language_info": {
   "codemirror_mode": {
    "name": "ipython",
    "version": 3
   },
   "file_extension": ".py",
   "mimetype": "text/x-python",
   "name": "python",
   "nbconvert_exporter": "python",
   "pygments_lexer": "ipython3",
   "version": "3.9.0"
  }
 },
 "nbformat": 4,
 "nbformat_minor": 4
}
