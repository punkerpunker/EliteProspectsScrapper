{
 "cells": [
  {
   "cell_type": "code",
   "execution_count": 1,
   "metadata": {},
   "outputs": [],
   "source": [
    "import joblib\n",
    "import pandas as pd\n",
    "import numpy as np\n",
    "import sqlalchemy\n",
    "import re\n",
    "import tqdm\n",
    "from preprocessing import Players, Seasons\n",
    "from features import Features\n",
    "\n",
    "pd.set_option('max_columns', None)\n",
    "\n",
    "db_name = 'postgres'\n",
    "db_hostname = 'localhost'\n",
    "db_user = 'postgres'\n",
    "db_password = 'tttBBB777'\n",
    "db_table = 'players_list'\n",
    "\n",
    "engine = sqlalchemy.create_engine(f'postgresql+psycopg2://{db_user}:{db_password}@{db_hostname}/{db_name}')"
   ]
  },
  {
   "cell_type": "code",
   "execution_count": 5,
   "metadata": {},
   "outputs": [],
   "source": [
    "def __init__(self):\n",
    "    pass\n",
    "Features.__init__ = __init__\n",
    "\n",
    "\n",
    "class Model:\n",
    "    def __init__(self, model, features):\n",
    "        self.model = model\n",
    "        self.features = features\n",
    "\n",
    "    @classmethod\n",
    "    def load(cls, path='source'):\n",
    "        model = joblib.load(f'{path}/model.pkl')\n",
    "        features = joblib.load(f'{path}/features.pkl')\n",
    "        return cls(model, features)\n",
    "    \n",
    "    def predict(self, player_id, postseason):\n",
    "        df = self.build_features(player_id, postseason).tail(1)\n",
    "        return self.model.predict(df[self.features])\n",
    "        \n",
    "    def build_features(self, player_id, postseason):\n",
    "        f = Features()\n",
    "        df = self.get_player_stats(player_id, postseason)\n",
    "        new_season = self.add_new_season(df)\n",
    "        f.merged = df.append(new_season)\n",
    "        f.merged = f.merged[[x for x in f.merged if '_lag' not in x]]\n",
    "        f.merged.drop([f'{x}_{y}' for x in f.aggregates for y in f.stats_columns], axis=1, inplace=True)\n",
    "        f.merged['draft_entry'] = f.merged['draft_entry'].astype(float)\n",
    "        f.get_age_at_season()\n",
    "        f.get_stats_per_game()\n",
    "        f.get_lags()\n",
    "        f.get_aggregates()\n",
    "        return f.merged\n",
    "    \n",
    "    def get_player_stats(self, player_id, postseason=0):\n",
    "        df = pd.read_sql(f\"select * from features where player_id = '{player_id}' and postseason_flag = {postseason}\", engine)\n",
    "        df = df.sort_values('season')\n",
    "        return df\n",
    "    \n",
    "    def add_new_season(self, df):\n",
    "        new_season = df.tail(1).copy()\n",
    "        new_season['season'] = new_season['season'].map(lambda x: str(int(x.split('-')[0])+1)+'-'+str(int(x.split('-')[1])+1))\n",
    "        new_season['year'] += pd.offsets.DateOffset(years=1)\n",
    "        return df"
   ]
  },
  {
   "cell_type": "code",
   "execution_count": 6,
   "metadata": {},
   "outputs": [],
   "source": [
    "m = Model.load()"
   ]
  },
  {
   "cell_type": "code",
   "execution_count": 17,
   "metadata": {},
   "outputs": [
    {
     "name": "stderr",
     "output_type": "stream",
     "text": [
      "100%|███████████████████████████████████████████| 3/3 [00:00<00:00, 250.05it/s]\n",
      "100%|███████████████████████████████████████████| 4/4 [00:00<00:00, 220.15it/s]\n",
      "100%|███████████████████████████████████████████| 4/4 [00:00<00:00, 285.66it/s]\n"
     ]
    }
   ],
   "source": [
    "df = m.predict('f1ee39c5-ba84-4324-b5ce-81465d4fb76e', 0)"
   ]
  },
  {
   "cell_type": "code",
   "execution_count": 19,
   "metadata": {},
   "outputs": [
    {
     "data": {
      "text/plain": [
       "array([7.41934666])"
      ]
     },
     "execution_count": 19,
     "metadata": {},
     "output_type": "execute_result"
    }
   ],
   "source": [
    "df"
   ]
  }
 ],
 "metadata": {
  "kernelspec": {
   "display_name": "Python 3",
   "language": "python",
   "name": "python3"
  },
  "language_info": {
   "codemirror_mode": {
    "name": "ipython",
    "version": 3
   },
   "file_extension": ".py",
   "mimetype": "text/x-python",
   "name": "python",
   "nbconvert_exporter": "python",
   "pygments_lexer": "ipython3",
   "version": "3.9.0"
  }
 },
 "nbformat": 4,
 "nbformat_minor": 4
}
